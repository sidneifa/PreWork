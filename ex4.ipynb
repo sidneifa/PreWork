{
 "cells": [
  {
   "cell_type": "code",
   "execution_count": 2,
   "id": "1eb27f7e-7e14-4c9a-889d-4665efc3d407",
   "metadata": {},
   "outputs": [
    {
     "data": {
      "text/plain": [
       "dict_keys(['love', 'conversation', 'every', \"we're\", 'plate', 'sour', 'jukebox', 'now', 'taxi', 'fast', 'bag', 'man', 'push', 'baby', 'going', 'you', \"don't\", 'one', 'mind', 'backseat', 'friends', 'then', 'know'])"
      ]
     },
     "execution_count": 2,
     "metadata": {},
     "output_type": "execute_result"
    }
   ],
   "source": [
    "word_freq = {\n",
    "  'love': 25,\n",
    "  'conversation': 1,\n",
    "  'every': 6,\n",
    "  \"we're\": 1,\n",
    "  'plate': 1,\n",
    "  'sour': 1,\n",
    "  'jukebox': 1,\n",
    "  'now': 11,\n",
    "  'taxi': 1,\n",
    "  'fast': 1,\n",
    "  'bag': 1,\n",
    "  'man': 1,\n",
    "  'push': 3,\n",
    "  'baby': 14,\n",
    "  'going': 1,\n",
    "  'you': 16,\n",
    "  \"don't\": 2,\n",
    "  'one': 1,\n",
    "  'mind': 2,\n",
    "  'backseat': 1,\n",
    "  'friends': 1,\n",
    "  'then': 3,\n",
    "  'know': 2\n",
    "}\n",
    "\n",
    "word_freq.keys()"
   ]
  },
  {
   "cell_type": "code",
   "execution_count": 3,
   "id": "f2aeea96-8533-4cda-8c42-7cd14796feb9",
   "metadata": {},
   "outputs": [
    {
     "data": {
      "text/plain": [
       "23"
      ]
     },
     "execution_count": 3,
     "metadata": {},
     "output_type": "execute_result"
    }
   ],
   "source": [
    "len(word_freq.keys())"
   ]
  },
  {
   "cell_type": "code",
   "execution_count": 4,
   "id": "0c56541d-4d5b-43d7-a408-56773c7492ef",
   "metadata": {},
   "outputs": [
    {
     "data": {
      "text/plain": [
       "dict_keys(['love', 'conversation', 'every', \"we're\", 'plate', 'sour', 'jukebox', 'now', 'taxi', 'fast', 'bag', 'man', 'push', 'baby', 'going', 'you', \"don't\", 'one', 'mind', 'backseat', 'friends', 'then', 'know'])"
      ]
     },
     "execution_count": 4,
     "metadata": {},
     "output_type": "execute_result"
    }
   ],
   "source": [
    "word_freq.keys()"
   ]
  },
  {
   "cell_type": "code",
   "execution_count": 5,
   "id": "3d418dcd-c7fd-41d2-83e3-f45a11095ca4",
   "metadata": {},
   "outputs": [
    {
     "data": {
      "text/plain": [
       "1"
      ]
     },
     "execution_count": 5,
     "metadata": {},
     "output_type": "execute_result"
    }
   ],
   "source": [
    "word_freq['friends']"
   ]
  },
  {
   "cell_type": "code",
   "execution_count": 6,
   "id": "c3d6f5ce-2791-4811-9045-57ecaf412094",
   "metadata": {},
   "outputs": [
    {
     "data": {
      "text/plain": [
       "1"
      ]
     },
     "execution_count": 6,
     "metadata": {},
     "output_type": "execute_result"
    }
   ],
   "source": [
    "word_freq['taxi']"
   ]
  },
  {
   "cell_type": "code",
   "execution_count": 7,
   "id": "97fbd6a7-8848-4973-adb9-9ea489cae7ac",
   "metadata": {},
   "outputs": [
    {
     "data": {
      "text/plain": [
       "1"
      ]
     },
     "execution_count": 7,
     "metadata": {},
     "output_type": "execute_result"
    }
   ],
   "source": [
    "word_freq['jukebox']"
   ]
  },
  {
   "cell_type": "code",
   "execution_count": 8,
   "id": "c87ca517-ee33-4e80-8900-082520563cae",
   "metadata": {},
   "outputs": [
    {
     "ename": "KeyError",
     "evalue": "'begin'",
     "output_type": "error",
     "traceback": [
      "\u001b[1;31m---------------------------------------------------------------------------\u001b[0m",
      "\u001b[1;31mKeyError\u001b[0m                                  Traceback (most recent call last)",
      "\u001b[1;32m<ipython-input-8-20b1011d6422>\u001b[0m in \u001b[0;36m<module>\u001b[1;34m\u001b[0m\n\u001b[1;32m----> 1\u001b[1;33m \u001b[0mword_freq\u001b[0m\u001b[1;33m[\u001b[0m\u001b[1;34m'begin'\u001b[0m\u001b[1;33m]\u001b[0m\u001b[1;33m\u001b[0m\u001b[1;33m\u001b[0m\u001b[0m\n\u001b[0m",
      "\u001b[1;31mKeyError\u001b[0m: 'begin'"
     ]
    }
   ],
   "source": [
    "word_freq['begin']"
   ]
  },
  {
   "cell_type": "code",
   "execution_count": 9,
   "id": "70748f9a-192f-4999-bbc2-8a9243580cae",
   "metadata": {},
   "outputs": [],
   "source": [
    "word_freq['begin'] = 1\n"
   ]
  },
  {
   "cell_type": "code",
   "execution_count": 10,
   "id": "7747eb6d-886e-45d1-b1e5-9beaba63f1aa",
   "metadata": {},
   "outputs": [],
   "source": [
    "word_freq['start'] = 2"
   ]
  },
  {
   "cell_type": "code",
   "execution_count": 11,
   "id": "32fbd170-cbc7-4d23-87a2-1686c746a238",
   "metadata": {},
   "outputs": [],
   "source": [
    "word_freq['over'] = 1"
   ]
  },
  {
   "cell_type": "code",
   "execution_count": 13,
   "id": "26b0520a-3e32-4eb2-876b-0cf573559f9a",
   "metadata": {},
   "outputs": [],
   "source": [
    "word_freq['body'] = 17"
   ]
  },
  {
   "cell_type": "code",
   "execution_count": 14,
   "id": "9dad5ff4-835f-4cdc-a64c-cdd18fdbd610",
   "metadata": {},
   "outputs": [
    {
     "data": {
      "text/plain": [
       "['love',\n",
       " 'conversation',\n",
       " 'every',\n",
       " \"we're\",\n",
       " 'plate',\n",
       " 'sour',\n",
       " 'jukebox',\n",
       " 'now',\n",
       " 'taxi',\n",
       " 'fast',\n",
       " 'bag',\n",
       " 'man',\n",
       " 'push',\n",
       " 'baby',\n",
       " 'going',\n",
       " 'you',\n",
       " \"don't\",\n",
       " 'one',\n",
       " 'mind',\n",
       " 'backseat',\n",
       " 'friends',\n",
       " 'then',\n",
       " 'know',\n",
       " 'begin',\n",
       " 'start',\n",
       " 'over',\n",
       " 'body']"
      ]
     },
     "execution_count": 14,
     "metadata": {},
     "output_type": "execute_result"
    }
   ],
   "source": [
    "list(word_freq.keys())"
   ]
  },
  {
   "cell_type": "code",
   "execution_count": 19,
   "id": "56a4ca71-fcc6-456d-a148-de86a40dcc37",
   "metadata": {},
   "outputs": [],
   "source": [
    "word = list(word_freq.keys())"
   ]
  },
  {
   "cell_type": "code",
   "execution_count": 20,
   "id": "ac6dfc81-818a-4ccb-a833-2ceae6ba6bb5",
   "metadata": {},
   "outputs": [
    {
     "data": {
      "text/plain": [
       "'love'"
      ]
     },
     "execution_count": 20,
     "metadata": {},
     "output_type": "execute_result"
    }
   ],
   "source": [
    "word[0]"
   ]
  },
  {
   "cell_type": "code",
   "execution_count": 21,
   "id": "df61eaee-6929-46c9-99ea-9a9c261e40a8",
   "metadata": {},
   "outputs": [
    {
     "data": {
      "text/plain": [
       "25"
      ]
     },
     "execution_count": 21,
     "metadata": {},
     "output_type": "execute_result"
    }
   ],
   "source": [
    "word_freq[word[0]]"
   ]
  },
  {
   "cell_type": "code",
   "execution_count": 22,
   "id": "a240ce93-42d5-4d0c-b2a3-cafd4a30d8b8",
   "metadata": {},
   "outputs": [
    {
     "data": {
      "text/plain": [
       "'body'"
      ]
     },
     "execution_count": 22,
     "metadata": {},
     "output_type": "execute_result"
    }
   ],
   "source": [
    "word[len(word)-1]"
   ]
  },
  {
   "cell_type": "code",
   "execution_count": 23,
   "id": "2faf6b3d-909e-4683-800a-1e75d8423df5",
   "metadata": {},
   "outputs": [
    {
     "data": {
      "text/plain": [
       "17"
      ]
     },
     "execution_count": 23,
     "metadata": {},
     "output_type": "execute_result"
    }
   ],
   "source": [
    "word_freq[word[len(word)-1]]"
   ]
  },
  {
   "cell_type": "code",
   "execution_count": 24,
   "id": "ae7143f6-b10e-416a-85c6-d8018c8a455d",
   "metadata": {},
   "outputs": [],
   "source": [
    "#no"
   ]
  },
  {
   "cell_type": "code",
   "execution_count": null,
   "id": "78bd9fda-4318-4041-86f1-d7f1635c07ea",
   "metadata": {},
   "outputs": [],
   "source": [
    "#yes"
   ]
  }
 ],
 "metadata": {
  "kernelspec": {
   "display_name": "Python 3",
   "language": "python",
   "name": "python3"
  },
  "language_info": {
   "codemirror_mode": {
    "name": "ipython",
    "version": 3
   },
   "file_extension": ".py",
   "mimetype": "text/x-python",
   "name": "python",
   "nbconvert_exporter": "python",
   "pygments_lexer": "ipython3",
   "version": "3.8.8"
  }
 },
 "nbformat": 4,
 "nbformat_minor": 5
}
