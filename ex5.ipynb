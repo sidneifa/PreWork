{
 "cells": [
  {
   "cell_type": "code",
   "execution_count": 2,
   "id": "84bf10ff-7eab-44bb-a1ea-662c1eb1b26a",
   "metadata": {},
   "outputs": [
    {
     "name": "stdout",
     "output_type": "stream",
     "text": [
      "10\n",
      "11\n",
      "12\n",
      "13\n",
      "14\n",
      "15\n",
      "16\n",
      "17\n",
      "18\n",
      "19\n",
      "20\n",
      "21\n",
      "22\n",
      "23\n",
      "24\n",
      "25\n",
      "26\n",
      "27\n",
      "28\n",
      "29\n"
     ]
    }
   ],
   "source": [
    "for a in range(10, 30):\n",
    "    print(a)"
   ]
  },
  {
   "cell_type": "code",
   "execution_count": 3,
   "id": "44394689-06e6-42fa-a1bd-9411d54cbdaf",
   "metadata": {},
   "outputs": [
    {
     "name": "stdout",
     "output_type": "stream",
     "text": [
      "10\n",
      "15\n",
      "20\n",
      "25\n"
     ]
    }
   ],
   "source": [
    "for a in range(10, 30, 5):\n",
    "    print(a)"
   ]
  },
  {
   "cell_type": "code",
   "execution_count": 9,
   "id": "405655ad-fed9-4f2b-8fbd-308ef62a1191",
   "metadata": {},
   "outputs": [
    {
     "name": "stdout",
     "output_type": "stream",
     "text": [
      "*\n",
      "***\n",
      "*****\n"
     ]
    }
   ],
   "source": [
    "\n",
    "for i in range(1, 6, 2):\n",
    "    print(i*'*')\n"
   ]
  },
  {
   "cell_type": "code",
   "execution_count": 15,
   "id": "ecab7c82-3b05-4c1a-ac03-9c4338ebab48",
   "metadata": {},
   "outputs": [
    {
     "name": "stdout",
     "output_type": "stream",
     "text": [
      "   *\n",
      "  ***\n",
      " *****\n"
     ]
    }
   ],
   "source": [
    "x = 2\n",
    "for i in range(1,6,2):\n",
    "    print(x*' ',i*'*')\n",
    "    x = x - 1\n",
    "\n"
   ]
  },
  {
   "cell_type": "code",
   "execution_count": 17,
   "id": "3ec3aa3a-90af-4304-bec8-5f1c3a641c43",
   "metadata": {},
   "outputs": [],
   "source": [
    "import math\n",
    "\n"
   ]
  },
  {
   "cell_type": "code",
   "execution_count": 19,
   "id": "adbea35f-1868-46b8-9d29-66868cf6c8f0",
   "metadata": {},
   "outputs": [
    {
     "name": "stdin",
     "output_type": "stream",
     "text": [
      "input int number 5\n"
     ]
    }
   ],
   "source": [
    "y = int(input(\"input positive int number\"))"
   ]
  },
  {
   "cell_type": "code",
   "execution_count": 24,
   "id": "e82938a1-84ef-48cc-8aac-be83f7b09d00",
   "metadata": {},
   "outputs": [
    {
     "name": "stdin",
     "output_type": "stream",
     "text": [
      "input positive int number 5\n"
     ]
    },
    {
     "name": "stdout",
     "output_type": "stream",
     "text": [
      "is factorial\n"
     ]
    }
   ],
   "source": [
    "y = int(input(\"input positive int number\"))\n",
    "constant = 1\n",
    "for y in range(2, y+1):\n",
    "    constant = constant*y\n",
    "if constant == math.factorial(y):\n",
    "    print(\"is factorial\")\n",
    "else:\n",
    "    print(\"isn't factorial\")"
   ]
  },
  {
   "cell_type": "code",
   "execution_count": 31,
   "id": "849921b7-9ad0-4bb9-a090-048c2dc83d17",
   "metadata": {},
   "outputs": [
    {
     "name": "stdout",
     "output_type": "stream",
     "text": [
      "12\n",
      "6\n",
      "12\n",
      "93\n",
      "783\n",
      "330\n"
     ]
    }
   ],
   "source": [
    "x = [12,43,4,1,6,343,10, 34, 12, 93, 783, 330, 896, 1, 55]\n",
    "\n",
    "for item in x:\n",
    "    if item%3 == 0:\n",
    "        print(item)\n",
    "    \n"
   ]
  },
  {
   "cell_type": "code",
   "execution_count": 34,
   "id": "90d026cd-9c1e-4dc9-a077-7e3dbffa9d02",
   "metadata": {},
   "outputs": [
    {
     "name": "stdout",
     "output_type": "stream",
     "text": [
      "43\n",
      "343\n",
      "93\n",
      "783\n"
     ]
    }
   ],
   "source": [
    "output_list = []\n",
    "for item in x:\n",
    "    item = str(item)\n",
    "    y = item[-1]\n",
    "    if y == '3':\n",
    "        output_list.append(item)\n",
    "        print(item)"
   ]
  },
  {
   "cell_type": "code",
   "execution_count": 35,
   "id": "0e3d983f-bc1c-42c8-9728-6004aa388a57",
   "metadata": {},
   "outputs": [
    {
     "data": {
      "text/plain": [
       "1"
      ]
     },
     "execution_count": 35,
     "metadata": {},
     "output_type": "execute_result"
    }
   ],
   "source": [
    "min(x)"
   ]
  },
  {
   "cell_type": "code",
   "execution_count": 36,
   "id": "61c9edd3-2224-4b15-9a9a-d26029d7ab45",
   "metadata": {},
   "outputs": [
    {
     "data": {
      "text/plain": [
       "896"
      ]
     },
     "execution_count": 36,
     "metadata": {},
     "output_type": "execute_result"
    }
   ],
   "source": [
    "max(x)"
   ]
  },
  {
   "cell_type": "code",
   "execution_count": 43,
   "id": "9f9c2158-b551-483d-b89f-2be27069f410",
   "metadata": {
    "tags": []
   },
   "outputs": [
    {
     "name": "stdout",
     "output_type": "stream",
     "text": [
      "push\n",
      "then\n"
     ]
    }
   ],
   "source": [
    "word_freq = {'love': 25, 'conversation': 1, 'every': 6, \"we're\": 1, 'plate': 1, 'sour': 1, 'jukebox': 1, 'now': 11, 'taxi': 1, 'fast': 1, 'bag': 1, 'man': 1, 'push': 3, 'baby': 14, 'going': 1, 'you': 16, \"don't\": 2, 'one': 1, 'mind': 2, 'backseat': 1, 'friends': 1, 'then': 3, 'know': 2}\n",
    "\n",
    "for key, value in word_freq.items():\n",
    "    if value < 3:\n",
    "        print(key)\n",
    "        \n"
   ]
  },
  {
   "cell_type": "code",
   "execution_count": 50,
   "id": "12e17ca9-1932-4a49-89a8-6fa2388cb110",
   "metadata": {},
   "outputs": [],
   "source": []
  },
  {
   "cell_type": "code",
   "execution_count": 54,
   "id": "a5bf4486-0dd5-49ae-a85e-4d225ecc71b0",
   "metadata": {},
   "outputs": [
    {
     "name": "stdout",
     "output_type": "stream",
     "text": [
      "love\n"
     ]
    }
   ],
   "source": [
    "\n",
    "y = list(word_freq.values())\n",
    "a = max(y)\n",
    "for key, value in word_freq.items():\n",
    "    if value == a:\n",
    "        print(key)"
   ]
  },
  {
   "cell_type": "code",
   "execution_count": null,
   "id": "12788094-bc0c-4f28-9473-3881f676873e",
   "metadata": {},
   "outputs": [],
   "source": []
  }
 ],
 "metadata": {
  "kernelspec": {
   "display_name": "Python 3",
   "language": "python",
   "name": "python3"
  },
  "language_info": {
   "codemirror_mode": {
    "name": "ipython",
    "version": 3
   },
   "file_extension": ".py",
   "mimetype": "text/x-python",
   "name": "python",
   "nbconvert_exporter": "python",
   "pygments_lexer": "ipython3",
   "version": "3.8.8"
  }
 },
 "nbformat": 4,
 "nbformat_minor": 5
}
