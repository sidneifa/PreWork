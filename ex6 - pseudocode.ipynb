{
 "cells": [
  {
   "cell_type": "code",
   "execution_count": 7,
   "id": "1c657447-c28f-445b-a5ac-fef85d241927",
   "metadata": {},
   "outputs": [
    {
     "ename": "SyntaxError",
     "evalue": "invalid syntax (<ipython-input-7-bff9545734fb>, line 4)",
     "output_type": "error",
     "traceback": [
      "\u001b[1;36m  File \u001b[1;32m\"<ipython-input-7-bff9545734fb>\"\u001b[1;36m, line \u001b[1;32m4\u001b[0m\n\u001b[1;33m    create two variables, one for each sorcerer\u001b[0m\n\u001b[1;37m           ^\u001b[0m\n\u001b[1;31mSyntaxError\u001b[0m\u001b[1;31m:\u001b[0m invalid syntax\n"
     ]
    }
   ],
   "source": [
    "gandalf = [10, 11, 13, 30, 22, 11, 10, 33, 22, 22]\n",
    "saruman = [23, 66, 12, 43, 12, 10, 44, 23, 12, 17]\n",
    "\n",
    "create two variables, one for each sorcerer\n",
    "create variables for the wins, one for gandalf, one for saruman\n",
    "iterate to see which sorcerer wins\n",
    "   if gandalf wins add 1 \n",
    "    else add 1 to saruman\n",
    "check who has a bigger number and print the winner   \n",
    "\n",
    "\n",
    "\n"
   ]
  },
  {
   "cell_type": "code",
   "execution_count": 12,
   "id": "6c05e04c-4058-49ae-bf82-8cd96be20000",
   "metadata": {},
   "outputs": [
    {
     "name": "stdout",
     "output_type": "stream",
     "text": [
      "Gandalf Wins\n"
     ]
    }
   ],
   "source": [
    "gandalf = [10, 11, 13, 30, 22, 11, 10, 33, 22, 22]\n",
    "saruman = [23, 66, 12, 43, 12, 10, 44, 23, 12, 17]\n",
    "\n",
    "gandalf_win = 0\n",
    "saruman_win = 0\n",
    "\n",
    "for i in range(0, len(gandalf)):\n",
    "    if (gandalf[i] > saruman[i]):\n",
    "        gandalf_win += 1\n",
    "    else :\n",
    "        saruman_win += 1\n",
    "        \n",
    "if (gandalf_win > saruman_win):\n",
    "    print('Gandalf Wins')\n",
    "    \n",
    "elif (saruman_wins > gandalf_win):\n",
    "        print('Saruman Wins')\n",
    "else :\n",
    "        print('Tie!')"
   ]
  },
  {
   "cell_type": "code",
   "execution_count": null,
   "id": "b733e5ba-22ef-45bd-ac75-ca81701f17a2",
   "metadata": {},
   "outputs": [],
   "source": []
  }
 ],
 "metadata": {
  "kernelspec": {
   "display_name": "Python 3",
   "language": "python",
   "name": "python3"
  },
  "language_info": {
   "codemirror_mode": {
    "name": "ipython",
    "version": 3
   },
   "file_extension": ".py",
   "mimetype": "text/x-python",
   "name": "python",
   "nbconvert_exporter": "python",
   "pygments_lexer": "ipython3",
   "version": "3.8.8"
  }
 },
 "nbformat": 4,
 "nbformat_minor": 5
}
