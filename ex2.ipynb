{
 "cells": [
  {
   "cell_type": "code",
   "execution_count": 3,
   "id": "523171ba-93e8-45e1-a1e2-e50e14c1c4b1",
   "metadata": {},
   "outputs": [
    {
     "name": "stdin",
     "output_type": "stream",
     "text": [
      "enter a number 0\n"
     ]
    },
    {
     "name": "stdout",
     "output_type": "stream",
     "text": [
      "a is 0\n"
     ]
    }
   ],
   "source": [
    "a= input(\"enter a number\")\n",
    "a=int(a)\n",
    "if a == 0:\n",
    "    print(\"a is 0\")\n",
    "elif a%2 == 0:\n",
    "    print(\"a is even\")\n",
    "else:\n",
    "    print(\"a is odd\")"
   ]
  },
  {
   "cell_type": "code",
   "execution_count": 4,
   "id": "ffc5539c-85a2-4410-bbe8-f70e0a3e613b",
   "metadata": {},
   "outputs": [
    {
     "name": "stdin",
     "output_type": "stream",
     "text": [
      "enter a number -5\n"
     ]
    },
    {
     "name": "stdout",
     "output_type": "stream",
     "text": [
      "number is negative\n"
     ]
    }
   ],
   "source": [
    "b= input(\"enter a number\")\n",
    "b=int(b)\n",
    "if b==0:\n",
    "    print(\"number is 0\")\n",
    "elif b>0:\n",
    "    print(\"number is positive\")\n",
    "else:\n",
    "    print(\"number is negative\")"
   ]
  },
  {
   "cell_type": "code",
   "execution_count": 6,
   "id": "4dc2e4ea-8bf7-4cd1-8120-c0c547dfdfc6",
   "metadata": {},
   "outputs": [
    {
     "name": "stdin",
     "output_type": "stream",
     "text": [
      "enter a mark between 0-100 25\n"
     ]
    },
    {
     "name": "stdout",
     "output_type": "stream",
     "text": [
      "E\n"
     ]
    }
   ],
   "source": [
    "c= input(\"enter a mark between 0-100\")\n",
    "c=int(c)\n",
    "if c>=0 and c<25:\n",
    "    print(\"F\")\n",
    "elif c>=25 and c<45:\n",
    "    print(\"E\")\n",
    "elif c>=45 and c<60:\n",
    "    print(\"D\")\n",
    "elif c>=60 and c<75:\n",
    "    print(\"C\")\n",
    "elif c>=75 and c<90:\n",
    "    print(\"B\")\n",
    "else:\n",
    "    print(\"A\")"
   ]
  },
  {
   "cell_type": "code",
   "execution_count": 14,
   "id": "c32215d7-6f74-4e2a-b7f5-629a0c94d66a",
   "metadata": {},
   "outputs": [
    {
     "name": "stdin",
     "output_type": "stream",
     "text": [
      "enter a number 4\n"
     ]
    },
    {
     "name": "stdout",
     "output_type": "stream",
     "text": [
      "number is even\n"
     ]
    }
   ],
   "source": [
    "a= input(\"enter a number\")\n",
    "if a.isdigit():\n",
    "    a=int(a)\n",
    "    if a==0:\n",
    "        print(\"number is 0\")\n",
    "    elif a%2==0:\n",
    "        print(\"number is even\")\n",
    "    elif a%2!=0:\n",
    "        print(\"number is odd\")\n",
    "else:\n",
    "    print(\"enter a number\")\n"
   ]
  },
  {
   "cell_type": "code",
   "execution_count": null,
   "id": "b2b2536d-a331-4a44-90db-f1948e1660e5",
   "metadata": {},
   "outputs": [],
   "source": [
    "\n"
   ]
  }
 ],
 "metadata": {
  "kernelspec": {
   "display_name": "Python 3",
   "language": "python",
   "name": "python3"
  },
  "language_info": {
   "codemirror_mode": {
    "name": "ipython",
    "version": 3
   },
   "file_extension": ".py",
   "mimetype": "text/x-python",
   "name": "python",
   "nbconvert_exporter": "python",
   "pygments_lexer": "ipython3",
   "version": "3.8.8"
  }
 },
 "nbformat": 4,
 "nbformat_minor": 5
}
