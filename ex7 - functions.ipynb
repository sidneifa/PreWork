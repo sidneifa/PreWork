{
 "cells": [
  {
   "cell_type": "code",
   "execution_count": 1,
   "id": "d324d5c0-63ff-4197-b115-fe5210cc62ec",
   "metadata": {},
   "outputs": [
    {
     "ename": "SyntaxError",
     "evalue": "invalid syntax (<ipython-input-1-1eab39cd10b6>, line 1)",
     "output_type": "error",
     "traceback": [
      "\u001b[1;36m  File \u001b[1;32m\"<ipython-input-1-1eab39cd10b6>\"\u001b[1;36m, line \u001b[1;32m1\u001b[0m\n\u001b[1;33m    +-----------------+---------------------+\u001b[0m\n\u001b[1;37m                                             ^\u001b[0m\n\u001b[1;31mSyntaxError\u001b[0m\u001b[1;31m:\u001b[0m invalid syntax\n"
     ]
    }
   ],
   "source": [
    "+-----------------+---------------------+\n",
    "|  birth_year     |      generation     |\n",
    "+-----------------+---------------------+\n",
    "|     < 1949      |  silent generation  |\n",
    "+-----------------+---------------------+\n",
    "|     < 1969      |     baby boomer     |\n",
    "+-----------------+---------------------+\n",
    "|     < 1981      |     X generation    |\n",
    "+-----------------+---------------------+\n",
    "|     < 1994      |      millennial     |\n",
    "+-----------------+---------------------+\n",
    "|     > 1994      |    Z generation     |\n",
    "+-----------------+---------------------+\n"
   ]
  },
  {
   "cell_type": "code",
   "execution_count": 2,
   "id": "c4b811eb-cdb9-48e3-b08b-864077af8458",
   "metadata": {},
   "outputs": [],
   "source": [
    "name1 = \"Jonh\"\n",
    "birth_year1 = 1989\n",
    "\n",
    "name2 = \"Mari\"\n",
    "birth_year2 = 1995\n",
    "\n",
    "name3 = \"Mich\"\n",
    "birth_year3 = 1960\n"
   ]
  },
  {
   "cell_type": "code",
   "execution_count": 6,
   "id": "baef535e-8c83-43f9-a27b-c5478f458547",
   "metadata": {},
   "outputs": [],
   "source": [
    "def generation_calculator (name, birth_year):\n",
    "    generation = birth_year\n",
    "    print (\"Generation: \")\n",
    "    print (generation)\n",
    "    if generation < 1949:\n",
    "        return name + \" is silent generation\"\n",
    "    if generation < 1969:\n",
    "        return name + \" is baby boomer\"\n",
    "    if generation < 1981:\n",
    "        return name + \" is X generation\"\n",
    "    if generation < 1994:\n",
    "        return name + \" is millennial\"\n",
    "    else:\n",
    "        return name + \" is Z generation\"\n",
    "    \n",
    "    "
   ]
  },
  {
   "cell_type": "code",
   "execution_count": 4,
   "id": "3a9ea31d-8147-4935-bbdf-15d64daefb37",
   "metadata": {},
   "outputs": [
    {
     "name": "stdout",
     "output_type": "stream",
     "text": [
      "Generation: \n",
      "1989\n",
      "Generation: \n",
      "1995\n",
      "Generation: \n",
      "1960\n"
     ]
    }
   ],
   "source": [
    "result1 = generation_calculator (name1, birth_year1)\n",
    "result2 = generation_calculator (name2, birth_year2)\n",
    "result3 = generation_calculator (name3, birth_year3)"
   ]
  },
  {
   "cell_type": "code",
   "execution_count": 5,
   "id": "b770919e-2db2-48db-9655-328b10ef3f0d",
   "metadata": {},
   "outputs": [
    {
     "name": "stdout",
     "output_type": "stream",
     "text": [
      "Jonh is millennial\n",
      "Mari is Z generation\n",
      "Mich is baby boomer\n"
     ]
    }
   ],
   "source": [
    "print(result1)\n",
    "print(result2)\n",
    "print(result3)"
   ]
  },
  {
   "cell_type": "code",
   "execution_count": null,
   "id": "ffff6c2f-a3ce-4b56-a0df-ee0d5ec32953",
   "metadata": {},
   "outputs": [],
   "source": []
  }
 ],
 "metadata": {
  "kernelspec": {
   "display_name": "Python 3",
   "language": "python",
   "name": "python3"
  },
  "language_info": {
   "codemirror_mode": {
    "name": "ipython",
    "version": 3
   },
   "file_extension": ".py",
   "mimetype": "text/x-python",
   "name": "python",
   "nbconvert_exporter": "python",
   "pygments_lexer": "ipython3",
   "version": "3.8.8"
  }
 },
 "nbformat": 4,
 "nbformat_minor": 5
}
