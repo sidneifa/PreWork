{
 "cells": [
  {
   "cell_type": "code",
   "execution_count": 1,
   "id": "97a28d18-5acd-424d-a42d-b78e5cd6a036",
   "metadata": {},
   "outputs": [
    {
     "data": {
      "text/plain": [
       "29"
      ]
     },
     "execution_count": 1,
     "metadata": {},
     "output_type": "execute_result"
    }
   ],
   "source": [
    "points = [-4, 17, 25, 19, 6, 11, 7]\n",
    "\n",
    "points_range = max(points) - min(points)\n",
    "\n",
    "points_range"
   ]
  },
  {
   "cell_type": "code",
   "execution_count": 1,
   "id": "7e8fb9e0-52b9-4715-b5b0-0af389174b7a",
   "metadata": {},
   "outputs": [
    {
     "data": {
      "text/plain": [
       "2.804757862395017"
      ]
     },
     "execution_count": 1,
     "metadata": {},
     "output_type": "execute_result"
    }
   ],
   "source": [
    "data = [2,4,7,1,6,8]\n",
    "\n",
    "import statistics as stats\n",
    "\n",
    "stats.stdev(data)"
   ]
  },
  {
   "cell_type": "code",
   "execution_count": 2,
   "id": "f7fedc9b-fb8c-47ca-bf52-342d9cfce60d",
   "metadata": {},
   "outputs": [
    {
     "data": {
      "text/plain": [
       "4.131182235954578"
      ]
     },
     "execution_count": 2,
     "metadata": {},
     "output_type": "execute_result"
    }
   ],
   "source": [
    "data1 = [2,4,7,1,12,8]\n",
    "\n",
    "stats.stdev(data1)"
   ]
  },
  {
   "cell_type": "code",
   "execution_count": 3,
   "id": "4bebe546-3a00-4cba-a8d3-b66775aa6540",
   "metadata": {},
   "outputs": [
    {
     "data": {
      "text/plain": [
       "0.0"
      ]
     },
     "execution_count": 3,
     "metadata": {},
     "output_type": "execute_result"
    }
   ],
   "source": [
    "example = [5,5,5]\n",
    "\n",
    "stats.stdev(example)"
   ]
  },
  {
   "cell_type": "code",
   "execution_count": 5,
   "id": "9c031ad8-e3eb-4414-aa0d-cd9eb0ce42dc",
   "metadata": {},
   "outputs": [],
   "source": [
    "#to calculate deviation we subtract the mean to the number so we can calculate the deviation of said number. it can be negative if the number is lower than the mean\n"
   ]
  },
  {
   "cell_type": "code",
   "execution_count": null,
   "id": "01db4c35-75ca-45db-8d77-e28fcc1539ef",
   "metadata": {},
   "outputs": [],
   "source": [
    "data = [23, 12, 34, 65, 34, 81]\n",
    "\n",
    "for item in data:\n",
    "    print(item,\"-\", item - stats.mean(data))"
   ]
  }
 ],
 "metadata": {
  "kernelspec": {
   "display_name": "Python 3",
   "language": "python",
   "name": "python3"
  },
  "language_info": {
   "codemirror_mode": {
    "name": "ipython",
    "version": 3
   },
   "file_extension": ".py",
   "mimetype": "text/x-python",
   "name": "python",
   "nbconvert_exporter": "python",
   "pygments_lexer": "ipython3",
   "version": "3.8.8"
  }
 },
 "nbformat": 4,
 "nbformat_minor": 5
}
