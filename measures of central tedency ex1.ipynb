{
 "cells": [
  {
   "cell_type": "code",
   "execution_count": 1,
   "id": "c4a98ada-b732-4e49-8478-4b2e69913ea1",
   "metadata": {},
   "outputs": [
    {
     "data": {
      "text/plain": [
       "False"
      ]
     },
     "execution_count": 1,
     "metadata": {},
     "output_type": "execute_result"
    }
   ],
   "source": [
    "False"
   ]
  },
  {
   "cell_type": "code",
   "execution_count": 3,
   "id": "0f0acabc-e776-490e-8907-13a647c694b8",
   "metadata": {},
   "outputs": [
    {
     "data": {
      "text/plain": [
       "6.72"
      ]
     },
     "execution_count": 3,
     "metadata": {},
     "output_type": "execute_result"
    }
   ],
   "source": [
    "data = [4, 7, 5, 9, 8, 6, 7, 7, 8, 5, 6, 9, 8, 5, 8, 7, 4, 7, 3, 6, 8, 9, 7, 6, 9]\n",
    "\n",
    "import statistics as stats\n",
    "\n",
    "stats.mean(data)"
   ]
  },
  {
   "cell_type": "code",
   "execution_count": 4,
   "id": "87fec5ef-497e-4456-be86-f9da1b10f9ab",
   "metadata": {},
   "outputs": [
    {
     "data": {
      "text/plain": [
       "array([3, 4, 4, 5, 5, 5, 6, 6, 6, 6, 7, 7, 7, 7, 7, 7, 8, 8, 8, 8, 8, 9,\n",
       "       9, 9, 9])"
      ]
     },
     "execution_count": 4,
     "metadata": {},
     "output_type": "execute_result"
    }
   ],
   "source": [
    "import numpy as np\n",
    "np.sort(data)"
   ]
  },
  {
   "cell_type": "code",
   "execution_count": 5,
   "id": "faa53862-49df-45af-ab35-b911e30dc7da",
   "metadata": {},
   "outputs": [
    {
     "data": {
      "text/plain": [
       "7"
      ]
     },
     "execution_count": 5,
     "metadata": {},
     "output_type": "execute_result"
    }
   ],
   "source": [
    "stats.median(data)"
   ]
  },
  {
   "cell_type": "code",
   "execution_count": 9,
   "id": "c09b47b7-6f9a-47cd-8f06-d306ff7b8472",
   "metadata": {},
   "outputs": [
    {
     "data": {
      "text/plain": [
       "7"
      ]
     },
     "execution_count": 9,
     "metadata": {},
     "output_type": "execute_result"
    }
   ],
   "source": [
    "stats.mode(data)"
   ]
  },
  {
   "cell_type": "code",
   "execution_count": 12,
   "id": "8b195964-8ef1-4c5b-baa4-65450fcd4215",
   "metadata": {},
   "outputs": [
    {
     "name": "stdout",
     "output_type": "stream",
     "text": [
      "{4: 2, 7: 6, 5: 3, 9: 4, 8: 5, 6: 4, 3: 1}\n"
     ]
    }
   ],
   "source": [
    "data_dictionary = {}\n",
    "\n",
    "for item in data:\n",
    "    data_count = data.count(item)\n",
    "    data_dictionary[item] = data_count\n",
    "print(data_dictionary)    "
   ]
  },
  {
   "cell_type": "code",
   "execution_count": 13,
   "id": "38d7d002-5f2e-4f66-ac1e-db651f2119b1",
   "metadata": {},
   "outputs": [
    {
     "ename": "NameError",
     "evalue": "name 'Median' is not defined",
     "output_type": "error",
     "traceback": [
      "\u001b[1;31m---------------------------------------------------------------------------\u001b[0m",
      "\u001b[1;31mNameError\u001b[0m                                 Traceback (most recent call last)",
      "\u001b[1;32m<ipython-input-13-0e0f215076cd>\u001b[0m in \u001b[0;36m<module>\u001b[1;34m\u001b[0m\n\u001b[1;32m----> 1\u001b[1;33m \u001b[0mMedian\u001b[0m\u001b[1;33m\u001b[0m\u001b[1;33m\u001b[0m\u001b[0m\n\u001b[0m",
      "\u001b[1;31mNameError\u001b[0m: name 'Median' is not defined"
     ]
    }
   ],
   "source": [
    "Median\n"
   ]
  },
  {
   "cell_type": "code",
   "execution_count": 14,
   "id": "ece32f37-7189-43e0-936d-58419ffb4ec9",
   "metadata": {},
   "outputs": [
    {
     "ename": "SyntaxError",
     "evalue": "invalid syntax (<ipython-input-14-7eb0b3f6822d>, line 1)",
     "output_type": "error",
     "traceback": [
      "\u001b[1;36m  File \u001b[1;32m\"<ipython-input-14-7eb0b3f6822d>\"\u001b[1;36m, line \u001b[1;32m1\u001b[0m\n\u001b[1;33m    mean of the central numbers\u001b[0m\n\u001b[1;37m         ^\u001b[0m\n\u001b[1;31mSyntaxError\u001b[0m\u001b[1;31m:\u001b[0m invalid syntax\n"
     ]
    }
   ],
   "source": [
    "mean of the central numbers"
   ]
  },
  {
   "cell_type": "code",
   "execution_count": 15,
   "id": "b8131fa3-84a8-4553-8516-d00290329a61",
   "metadata": {},
   "outputs": [
    {
     "ename": "SyntaxError",
     "evalue": "invalid syntax (<ipython-input-15-174a2efe7659>, line 1)",
     "output_type": "error",
     "traceback": [
      "\u001b[1;36m  File \u001b[1;32m\"<ipython-input-15-174a2efe7659>\"\u001b[1;36m, line \u001b[1;32m1\u001b[0m\n\u001b[1;33m    outliers are unusual values in a dataset. Mean\u001b[0m\n\u001b[1;37m             ^\u001b[0m\n\u001b[1;31mSyntaxError\u001b[0m\u001b[1;31m:\u001b[0m invalid syntax\n"
     ]
    }
   ],
   "source": [
    "outliers are unusual values in a dataset. Mean "
   ]
  },
  {
   "cell_type": "code",
   "execution_count": null,
   "id": "42d55918-63af-4390-a020-b8f8cf121822",
   "metadata": {},
   "outputs": [],
   "source": []
  }
 ],
 "metadata": {
  "kernelspec": {
   "display_name": "Python 3",
   "language": "python",
   "name": "python3"
  },
  "language_info": {
   "codemirror_mode": {
    "name": "ipython",
    "version": 3
   },
   "file_extension": ".py",
   "mimetype": "text/x-python",
   "name": "python",
   "nbconvert_exporter": "python",
   "pygments_lexer": "ipython3",
   "version": "3.8.8"
  }
 },
 "nbformat": 4,
 "nbformat_minor": 5
}
